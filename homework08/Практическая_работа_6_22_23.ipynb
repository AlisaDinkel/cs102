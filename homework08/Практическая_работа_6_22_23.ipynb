{
  "nbformat": 4,
  "nbformat_minor": 0,
  "metadata": {
    "colab": {
      "provenance": [],
      "include_colab_link": true
    },
    "kernelspec": {
      "name": "python3",
      "display_name": "Python 3"
    },
    "language_info": {
      "name": "python"
    }
  },
  "cells": [
    {
      "cell_type": "markdown",
      "metadata": {
        "id": "view-in-github",
        "colab_type": "text"
      },
      "source": [
        "<a href=\"https://colab.research.google.com/github/AlisaDinkel/cs102/blob/homework08/homework08/%D0%9F%D1%80%D0%B0%D0%BA%D1%82%D0%B8%D1%87%D0%B5%D1%81%D0%BA%D0%B0%D1%8F_%D1%80%D0%B0%D0%B1%D0%BE%D1%82%D0%B0_6_22_23.ipynb\" target=\"_parent\"><img src=\"https://colab.research.google.com/assets/colab-badge.svg\" alt=\"Open In Colab\"/></a>"
      ]
    },
    {
      "cell_type": "markdown",
      "metadata": {
        "id": "KSKKDKd2rwlj"
      },
      "source": [
        "# Дескриптивный анализ данных"
      ]
    },
    {
      "cell_type": "markdown",
      "source": [
        ">$\\color{red}{\\text{Прежде чем перейти в выполнению заданий,}}$\n",
        "$\\color{red}{\\text{через меню Файл подключите свой гугл-колаб к своему гитхабу. }}$\n",
        "$\\color{red}{\\text{Создайте для этой работы отдельную ветку и папку – homework06.}}$"
      ],
      "metadata": {
        "id": "WVUwSMwE3W8c"
      }
    },
    {
      "cell_type": "markdown",
      "metadata": {
        "id": "34z2ONdu-UF0"
      },
      "source": [
        "*Построение всех графиков выполняется только при помощи средств визуализации `Python`: `matplotlib`, `seaborn`, `pandas`. По каждому заданию должен быть сделан вывод. Для всех визуализаций используйте стиль `seaborn`. Обязательно добавляйте подпись графика и осей.*"
      ]
    },
    {
      "cell_type": "markdown",
      "metadata": {
        "id": "2PDB4mwLr1Sk"
      },
      "source": [
        "В этой практической работе вам предстоит провести анализ данных об особенностях жанров музыки. Датасет возьмите [отсюда](https://www.kaggle.com/vicsuperman/prediction-of-music-genre). Он содержит 41700 уникальных исполниителей.\n",
        "\n",
        "Данные содержат 18 столбцов:\n",
        "- `instance_id` - id строки датасета\n",
        "- `artist_name` - исполнитель\n",
        "- `track_name` - название трека\n",
        "- `popularity` - индекс популярности трека\n",
        "- `acousticness` - акустичность\n",
        "- `danceability` - танцевальность (насколько трек подходит для танцев)\n",
        "- `duration_ms` - длительность трека\n",
        "- `energy` - энергичность трека\n",
        "- `instrumentalness` - инструментальность\n",
        "- `key` - регистр (высота тона)\n",
        "- `liveness` - живость\n",
        "- `loudness` - громкость\n",
        "- `mode` - тональность\n",
        "- `speechiness` - насколько много текста\n",
        "- `tempo` - музыкальный темп\n",
        "- `obtained_date` - дата загрузки трека в датасет\n",
        "- `valence` - настроение\n",
        "- `music_genre` - жанр"
      ]
    },
    {
      "cell_type": "markdown",
      "source": [
        "## Часть 1\n",
        "\n",
        "Выполните все задания ниже с помощью библиотеки `pandas`."
      ],
      "metadata": {
        "id": "bkchMOL3490D"
      }
    },
    {
      "cell_type": "markdown",
      "source": [
        "### Задание 1"
      ],
      "metadata": {
        "id": "2oLTrZbOxFmz"
      }
    },
    {
      "cell_type": "markdown",
      "source": [
        "1. Загрузите датасет `music_genre.csv`.\n",
        "2. Возьмите 20 тысяч случайных строк из датасета (**все остальные задания выполняйте для этих 20 тысяч строк!!!**)\n",
        "3. Проверьте, есть ли в датасете дублирующиеся строки. Если есть, удалите их.\n",
        "4. Проверьте, есть ли а датасете строки, в которых значение в столбце `artist_name` – `empty_field`. Если есть, выведите эти строки и их количество. А затем удалите из датасета."
      ],
      "metadata": {
        "id": "UiPqPkb0wwyw"
      }
    },
    {
      "cell_type": "code",
      "source": [
        "# PUT YOUR CODE HERE"
      ],
      "metadata": {
        "id": "CdDZgNsEwsgA"
      },
      "execution_count": null,
      "outputs": []
    },
    {
      "cell_type": "markdown",
      "source": [
        "### Задание 2\n",
        "\n",
        "1. Выведите долю каждого жанра в датасете.\n",
        "2. Покажите на горизонтальной столбиковой диаграмме распределение количества треков по жанрам. Выделите контрастным цветом жанр, в котором больше всего песен.\n",
        "3. Найдите самый танцевальный жанр. У самого танцевального жанра среднее значение показателя danceability должно быть наивысшим.\n",
        "4. Для каждого жанра определите, какая тональность в нем преобладает – количество треков какой тональность больше (минор или мажор)."
      ],
      "metadata": {
        "id": "P3BidIDExIrK"
      }
    },
    {
      "cell_type": "code",
      "source": [
        "# PUT YOUR CODE HERE"
      ],
      "metadata": {
        "id": "0j2MWLdoytCV"
      },
      "execution_count": null,
      "outputs": []
    },
    {
      "cell_type": "markdown",
      "source": [
        "### Задание 3\n",
        "\n",
        "1. Выведите исполнителя, у которого больше всего треков в датасете. И того, у которого их меньше всех.\n",
        "2. Покажите на горизонтральной столбиковой диаграмме топ-20 исполнителей. Изучите результат и сделайте выводы."
      ],
      "metadata": {
        "id": "UFsKd07syxWI"
      }
    },
    {
      "cell_type": "code",
      "source": [
        "# PUT YOUR CODE HERE"
      ],
      "metadata": {
        "id": "jm6uJLiPzS_1"
      },
      "execution_count": null,
      "outputs": []
    },
    {
      "cell_type": "markdown",
      "metadata": {
        "id": "pjBj8HWkr1nI"
      },
      "source": [
        "### Задание 4"
      ]
    },
    {
      "cell_type": "markdown",
      "metadata": {
        "id": "u3nyqiKmwj2F"
      },
      "source": [
        "1. Постройте корреляционную матрицу для характеристик треков. Между какими характеристиками сильная корреляция? Между какими слабая? Есть ли характеристики, между которыми корреляции практически нет.\n",
        "2. Посчитайте корреляцию между популярностью (popularity) и длиной названия трека."
      ]
    },
    {
      "cell_type": "code",
      "metadata": {
        "id": "QN6HDuT9rtVz"
      },
      "source": [
        "# PUT YOUR CODE HERE"
      ],
      "execution_count": null,
      "outputs": []
    },
    {
      "cell_type": "markdown",
      "metadata": {
        "id": "0ygsFcLSwrTt"
      },
      "source": [
        "### Задание 5\n",
        "\n",
        "Покажите на ящиковой диаграмме отношение популярности треков к жанру. Какие жанры похожи между собой?"
      ]
    },
    {
      "cell_type": "code",
      "metadata": {
        "id": "QKHJ85OHwrTu"
      },
      "source": [
        "# PUT YOUR CODE HERE"
      ],
      "execution_count": null,
      "outputs": []
    },
    {
      "cell_type": "markdown",
      "metadata": {
        "id": "zrX_7sX_wrd-"
      },
      "source": [
        "### Задание 6"
      ]
    },
    {
      "cell_type": "markdown",
      "metadata": {
        "id": "-YxfmmMSwrd_"
      },
      "source": [
        "Для топ-3 жанров покажите на круговой диаграмме с группировкой самого популярного исполнителя. Диаграмма должна быть одна."
      ]
    },
    {
      "cell_type": "code",
      "metadata": {
        "id": "emEaxEcuwrd_"
      },
      "source": [
        "# PUT YOUR CODE HERE"
      ],
      "execution_count": null,
      "outputs": []
    },
    {
      "cell_type": "markdown",
      "metadata": {
        "id": "xSf_PxzKwrmy"
      },
      "source": [
        "### Задание 7"
      ]
    },
    {
      "cell_type": "markdown",
      "metadata": {
        "id": "XfsIogcJwrmz"
      },
      "source": [
        "На вертикальной столбиковой диаграмме для самого популярного (popularity) и самого непопулярного жанров покажите средние значения по всем характеристикам. Отрицательные и положительные значения характеристик показывайте разными цветами."
      ]
    },
    {
      "cell_type": "code",
      "metadata": {
        "id": "_qfk7y5Mwrmz"
      },
      "source": [
        "# PUT YOUR CODE HERE"
      ],
      "execution_count": null,
      "outputs": []
    },
    {
      "cell_type": "markdown",
      "metadata": {
        "id": "CxGr4PzCwrvk"
      },
      "source": [
        "### Задание 8"
      ]
    },
    {
      "cell_type": "markdown",
      "metadata": {
        "id": "40NA2CMZwrvk"
      },
      "source": [
        "1. Добавьте в данные категориальный столбец `длительность_трека`, в котором будут значения: \"короткая\" (<=3min), \"средняя\" (>3min, <=5min), \"длинная\" (>5min).\n",
        "2. Покажите график плотности распределения данных в столбце `loudness`, сгруппированных по категориям длительности.\n",
        "3. На круговой диаграмме вида \"пончик\" покажите численное соотношение треков разной длительности."
      ]
    },
    {
      "cell_type": "code",
      "metadata": {
        "id": "C8mkWk2fwrvl"
      },
      "source": [
        "# PUT YOUR CODE HERE"
      ],
      "execution_count": null,
      "outputs": []
    },
    {
      "cell_type": "markdown",
      "source": [
        "## Часть 2\n",
        "\n",
        "Выполните на языке R следующие задания:\n",
        "- задание 1 – целиком\n",
        "- задание 2 – целиком\n",
        "- задание 3 – целиком\n",
        "- задание 4 – целиком\n",
        "- задание 5 – целиком\n",
        "- задание 6 – не выполнять\n",
        "- задание 7 – целиком\n",
        "- задание 8 – целиком, но в третьем пункте постройте круговую диаграмму"
      ],
      "metadata": {
        "id": "Z0_35fxD5H_H"
      }
    },
    {
      "cell_type": "markdown",
      "source": [
        "Задание для части 2 выполняйте в отдельном гугл-колабе, настроенном для языка R. Гугл-колаб с решениями второй части также соедините с веткой homework06 своего гитхаба."
      ],
      "metadata": {
        "id": "XveRUbLT56Nu"
      }
    },
    {
      "cell_type": "markdown",
      "source": [
        "## Часть 3 (дополнительная)\n",
        "\n",
        "Часть не является обязательной, но ее верное(!) выполнение освобождает вас от защиты работы.\n",
        "\n",
        "Выполните на языке SQL следующие задания:\n",
        "- задание 1 – пункт 4\n",
        "- задание 2 – пункты 1, 3, 4\n",
        "- задание 3 – целиком, но без графика во втором пункте\n",
        "- задание 4 – не выполнять\n",
        "- задание 5 – не выполнять\n",
        "- задание 6 – не выполнять\n",
        "- задание 7 – не выполнять\n",
        "- задание 8 – пункт 1 и пункт 3 (в 3 пункте просто посчитайте количество треков каждой длительности)"
      ],
      "metadata": {
        "id": "HUEGsrLO6-GA"
      }
    },
    {
      "cell_type": "markdown",
      "source": [
        "Задание для части 3 выполняйте в отдельном гугл-колабе. Гугл-колаб с решениями второй части также соедините с веткой homework06 своего гитхаба."
      ],
      "metadata": {
        "id": "7UmmyVWb-1EQ"
      }
    },
    {
      "cell_type": "markdown",
      "source": [
        "#### Пример"
      ],
      "metadata": {
        "id": "a6k-9j1a-8T-"
      }
    },
    {
      "cell_type": "code",
      "source": [
        "import pandas as pd\n",
        "df = pd.read_csv(\"music_genre.csv\")\n",
        "df.head()"
      ],
      "metadata": {
        "colab": {
          "base_uri": "https://localhost:8080/",
          "height": 315
        },
        "id": "pJ4xc_vO8Z0k",
        "outputId": "d83053d0-1bf9-4cbf-ddb2-29931fe692ae"
      },
      "execution_count": null,
      "outputs": [
        {
          "output_type": "execute_result",
          "data": {
            "text/plain": [
              "   instance_id           artist_name            track_name  popularity  \\\n",
              "0      32894.0              Röyksopp  Röyksopp's Night Out        27.0   \n",
              "1      46652.0  Thievery Corporation      The Shining Path        31.0   \n",
              "2      30097.0        Dillon Francis             Hurricane        28.0   \n",
              "3      62177.0              Dubloadz                 Nitro        34.0   \n",
              "4      24907.0           What So Not      Divide & Conquer        32.0   \n",
              "\n",
              "   acousticness  danceability  duration_ms  energy  instrumentalness key  \\\n",
              "0       0.00468         0.652         -1.0   0.941           0.79200  A#   \n",
              "1       0.01270         0.622     218293.0   0.890           0.95000   D   \n",
              "2       0.00306         0.620     215613.0   0.755           0.01180  G#   \n",
              "3       0.02540         0.774     166875.0   0.700           0.00253  C#   \n",
              "4       0.00465         0.638     222369.0   0.587           0.90900  F#   \n",
              "\n",
              "   liveness  loudness   mode  speechiness               tempo obtained_date  \\\n",
              "0     0.115    -5.201  Minor       0.0748             100.889         4-Apr   \n",
              "1     0.124    -7.043  Minor       0.0300  115.00200000000001         4-Apr   \n",
              "2     0.534    -4.617  Major       0.0345             127.994         4-Apr   \n",
              "3     0.157    -4.498  Major       0.2390             128.014         4-Apr   \n",
              "4     0.157    -6.266  Major       0.0413             145.036         4-Apr   \n",
              "\n",
              "   valence music_genre  \n",
              "0    0.759  Electronic  \n",
              "1    0.531  Electronic  \n",
              "2    0.333  Electronic  \n",
              "3    0.270  Electronic  \n",
              "4    0.323  Electronic  "
            ],
            "text/html": [
              "\n",
              "  <div id=\"df-e7754b78-e2c5-48ad-ab21-29b24a9cbbaa\">\n",
              "    <div class=\"colab-df-container\">\n",
              "      <div>\n",
              "<style scoped>\n",
              "    .dataframe tbody tr th:only-of-type {\n",
              "        vertical-align: middle;\n",
              "    }\n",
              "\n",
              "    .dataframe tbody tr th {\n",
              "        vertical-align: top;\n",
              "    }\n",
              "\n",
              "    .dataframe thead th {\n",
              "        text-align: right;\n",
              "    }\n",
              "</style>\n",
              "<table border=\"1\" class=\"dataframe\">\n",
              "  <thead>\n",
              "    <tr style=\"text-align: right;\">\n",
              "      <th></th>\n",
              "      <th>instance_id</th>\n",
              "      <th>artist_name</th>\n",
              "      <th>track_name</th>\n",
              "      <th>popularity</th>\n",
              "      <th>acousticness</th>\n",
              "      <th>danceability</th>\n",
              "      <th>duration_ms</th>\n",
              "      <th>energy</th>\n",
              "      <th>instrumentalness</th>\n",
              "      <th>key</th>\n",
              "      <th>liveness</th>\n",
              "      <th>loudness</th>\n",
              "      <th>mode</th>\n",
              "      <th>speechiness</th>\n",
              "      <th>tempo</th>\n",
              "      <th>obtained_date</th>\n",
              "      <th>valence</th>\n",
              "      <th>music_genre</th>\n",
              "    </tr>\n",
              "  </thead>\n",
              "  <tbody>\n",
              "    <tr>\n",
              "      <th>0</th>\n",
              "      <td>32894.0</td>\n",
              "      <td>Röyksopp</td>\n",
              "      <td>Röyksopp's Night Out</td>\n",
              "      <td>27.0</td>\n",
              "      <td>0.00468</td>\n",
              "      <td>0.652</td>\n",
              "      <td>-1.0</td>\n",
              "      <td>0.941</td>\n",
              "      <td>0.79200</td>\n",
              "      <td>A#</td>\n",
              "      <td>0.115</td>\n",
              "      <td>-5.201</td>\n",
              "      <td>Minor</td>\n",
              "      <td>0.0748</td>\n",
              "      <td>100.889</td>\n",
              "      <td>4-Apr</td>\n",
              "      <td>0.759</td>\n",
              "      <td>Electronic</td>\n",
              "    </tr>\n",
              "    <tr>\n",
              "      <th>1</th>\n",
              "      <td>46652.0</td>\n",
              "      <td>Thievery Corporation</td>\n",
              "      <td>The Shining Path</td>\n",
              "      <td>31.0</td>\n",
              "      <td>0.01270</td>\n",
              "      <td>0.622</td>\n",
              "      <td>218293.0</td>\n",
              "      <td>0.890</td>\n",
              "      <td>0.95000</td>\n",
              "      <td>D</td>\n",
              "      <td>0.124</td>\n",
              "      <td>-7.043</td>\n",
              "      <td>Minor</td>\n",
              "      <td>0.0300</td>\n",
              "      <td>115.00200000000001</td>\n",
              "      <td>4-Apr</td>\n",
              "      <td>0.531</td>\n",
              "      <td>Electronic</td>\n",
              "    </tr>\n",
              "    <tr>\n",
              "      <th>2</th>\n",
              "      <td>30097.0</td>\n",
              "      <td>Dillon Francis</td>\n",
              "      <td>Hurricane</td>\n",
              "      <td>28.0</td>\n",
              "      <td>0.00306</td>\n",
              "      <td>0.620</td>\n",
              "      <td>215613.0</td>\n",
              "      <td>0.755</td>\n",
              "      <td>0.01180</td>\n",
              "      <td>G#</td>\n",
              "      <td>0.534</td>\n",
              "      <td>-4.617</td>\n",
              "      <td>Major</td>\n",
              "      <td>0.0345</td>\n",
              "      <td>127.994</td>\n",
              "      <td>4-Apr</td>\n",
              "      <td>0.333</td>\n",
              "      <td>Electronic</td>\n",
              "    </tr>\n",
              "    <tr>\n",
              "      <th>3</th>\n",
              "      <td>62177.0</td>\n",
              "      <td>Dubloadz</td>\n",
              "      <td>Nitro</td>\n",
              "      <td>34.0</td>\n",
              "      <td>0.02540</td>\n",
              "      <td>0.774</td>\n",
              "      <td>166875.0</td>\n",
              "      <td>0.700</td>\n",
              "      <td>0.00253</td>\n",
              "      <td>C#</td>\n",
              "      <td>0.157</td>\n",
              "      <td>-4.498</td>\n",
              "      <td>Major</td>\n",
              "      <td>0.2390</td>\n",
              "      <td>128.014</td>\n",
              "      <td>4-Apr</td>\n",
              "      <td>0.270</td>\n",
              "      <td>Electronic</td>\n",
              "    </tr>\n",
              "    <tr>\n",
              "      <th>4</th>\n",
              "      <td>24907.0</td>\n",
              "      <td>What So Not</td>\n",
              "      <td>Divide &amp; Conquer</td>\n",
              "      <td>32.0</td>\n",
              "      <td>0.00465</td>\n",
              "      <td>0.638</td>\n",
              "      <td>222369.0</td>\n",
              "      <td>0.587</td>\n",
              "      <td>0.90900</td>\n",
              "      <td>F#</td>\n",
              "      <td>0.157</td>\n",
              "      <td>-6.266</td>\n",
              "      <td>Major</td>\n",
              "      <td>0.0413</td>\n",
              "      <td>145.036</td>\n",
              "      <td>4-Apr</td>\n",
              "      <td>0.323</td>\n",
              "      <td>Electronic</td>\n",
              "    </tr>\n",
              "  </tbody>\n",
              "</table>\n",
              "</div>\n",
              "      <button class=\"colab-df-convert\" onclick=\"convertToInteractive('df-e7754b78-e2c5-48ad-ab21-29b24a9cbbaa')\"\n",
              "              title=\"Convert this dataframe to an interactive table.\"\n",
              "              style=\"display:none;\">\n",
              "        \n",
              "  <svg xmlns=\"http://www.w3.org/2000/svg\" height=\"24px\"viewBox=\"0 0 24 24\"\n",
              "       width=\"24px\">\n",
              "    <path d=\"M0 0h24v24H0V0z\" fill=\"none\"/>\n",
              "    <path d=\"M18.56 5.44l.94 2.06.94-2.06 2.06-.94-2.06-.94-.94-2.06-.94 2.06-2.06.94zm-11 1L8.5 8.5l.94-2.06 2.06-.94-2.06-.94L8.5 2.5l-.94 2.06-2.06.94zm10 10l.94 2.06.94-2.06 2.06-.94-2.06-.94-.94-2.06-.94 2.06-2.06.94z\"/><path d=\"M17.41 7.96l-1.37-1.37c-.4-.4-.92-.59-1.43-.59-.52 0-1.04.2-1.43.59L10.3 9.45l-7.72 7.72c-.78.78-.78 2.05 0 2.83L4 21.41c.39.39.9.59 1.41.59.51 0 1.02-.2 1.41-.59l7.78-7.78 2.81-2.81c.8-.78.8-2.07 0-2.86zM5.41 20L4 18.59l7.72-7.72 1.47 1.35L5.41 20z\"/>\n",
              "  </svg>\n",
              "      </button>\n",
              "      \n",
              "  <style>\n",
              "    .colab-df-container {\n",
              "      display:flex;\n",
              "      flex-wrap:wrap;\n",
              "      gap: 12px;\n",
              "    }\n",
              "\n",
              "    .colab-df-convert {\n",
              "      background-color: #E8F0FE;\n",
              "      border: none;\n",
              "      border-radius: 50%;\n",
              "      cursor: pointer;\n",
              "      display: none;\n",
              "      fill: #1967D2;\n",
              "      height: 32px;\n",
              "      padding: 0 0 0 0;\n",
              "      width: 32px;\n",
              "    }\n",
              "\n",
              "    .colab-df-convert:hover {\n",
              "      background-color: #E2EBFA;\n",
              "      box-shadow: 0px 1px 2px rgba(60, 64, 67, 0.3), 0px 1px 3px 1px rgba(60, 64, 67, 0.15);\n",
              "      fill: #174EA6;\n",
              "    }\n",
              "\n",
              "    [theme=dark] .colab-df-convert {\n",
              "      background-color: #3B4455;\n",
              "      fill: #D2E3FC;\n",
              "    }\n",
              "\n",
              "    [theme=dark] .colab-df-convert:hover {\n",
              "      background-color: #434B5C;\n",
              "      box-shadow: 0px 1px 3px 1px rgba(0, 0, 0, 0.15);\n",
              "      filter: drop-shadow(0px 1px 2px rgba(0, 0, 0, 0.3));\n",
              "      fill: #FFFFFF;\n",
              "    }\n",
              "  </style>\n",
              "\n",
              "      <script>\n",
              "        const buttonEl =\n",
              "          document.querySelector('#df-e7754b78-e2c5-48ad-ab21-29b24a9cbbaa button.colab-df-convert');\n",
              "        buttonEl.style.display =\n",
              "          google.colab.kernel.accessAllowed ? 'block' : 'none';\n",
              "\n",
              "        async function convertToInteractive(key) {\n",
              "          const element = document.querySelector('#df-e7754b78-e2c5-48ad-ab21-29b24a9cbbaa');\n",
              "          const dataTable =\n",
              "            await google.colab.kernel.invokeFunction('convertToInteractive',\n",
              "                                                     [key], {});\n",
              "          if (!dataTable) return;\n",
              "\n",
              "          const docLinkHtml = 'Like what you see? Visit the ' +\n",
              "            '<a target=\"_blank\" href=https://colab.research.google.com/notebooks/data_table.ipynb>data table notebook</a>'\n",
              "            + ' to learn more about interactive tables.';\n",
              "          element.innerHTML = '';\n",
              "          dataTable['output_type'] = 'display_data';\n",
              "          await google.colab.output.renderOutput(dataTable, element);\n",
              "          const docLink = document.createElement('div');\n",
              "          docLink.innerHTML = docLinkHtml;\n",
              "          element.appendChild(docLink);\n",
              "        }\n",
              "      </script>\n",
              "    </div>\n",
              "  </div>\n",
              "  "
            ]
          },
          "metadata": {},
          "execution_count": 10
        }
      ]
    },
    {
      "cell_type": "code",
      "source": [
        "df[[\"artist_name\", \"track_name\", \"music_genre\"]].values.tolist()[:10]"
      ],
      "metadata": {
        "colab": {
          "base_uri": "https://localhost:8080/"
        },
        "id": "Q-FOrHTF8m61",
        "outputId": "12375277-3fa1-46e2-8b94-16e4f99b0a60"
      },
      "execution_count": null,
      "outputs": [
        {
          "output_type": "execute_result",
          "data": {
            "text/plain": [
              "[['Röyksopp', \"Röyksopp's Night Out\", 'Electronic'],\n",
              " ['Thievery Corporation', 'The Shining Path', 'Electronic'],\n",
              " ['Dillon Francis', 'Hurricane', 'Electronic'],\n",
              " ['Dubloadz', 'Nitro', 'Electronic'],\n",
              " ['What So Not', 'Divide & Conquer', 'Electronic'],\n",
              " ['Axel Boman', 'Hello', 'Electronic'],\n",
              " ['Jordan Comolli', 'Clash', 'Electronic'],\n",
              " ['Hraach', 'Delirio', 'Electronic'],\n",
              " ['Kayzo', 'NEVER ALONE', 'Electronic'],\n",
              " ['Shlump', 'Lazer Beam', 'Electronic']]"
            ]
          },
          "metadata": {},
          "execution_count": 23
        }
      ]
    },
    {
      "cell_type": "code",
      "source": [
        "import sqlite3\n",
        "\n",
        "# создаем таблицу в БД\n",
        "con = sqlite3.connect(\":memory:\")\n",
        "cur = con.cursor()\n",
        "cur.execute(\"CREATE TABLE music (artist, track, genre);\")\n",
        "\n",
        "# переносим в таблицу данные\n",
        "cur.executemany(\"INSERT INTO music (artist, track, genre) \"\n",
        "                \"VALUES (?, ?, ?);\",\n",
        "                df[[\"artist_name\", \"track_name\", \"music_genre\"]].values.tolist())\n",
        "\n",
        "# сохраняем изменения\n",
        "con.commit()\n",
        "\n",
        "# создаем и выполняем запрос\n",
        "get_songs_per_artist = \"SELECT artist, \" \\\n",
        "       \"COUNT(artist) AS number_of_songs \" \\\n",
        "       \"FROM music \" \\\n",
        "       \"GROUP BY artist \" \\\n",
        "       \"ORDER BY number_of_songs \" \\\n",
        "       \"DESC;\"\n",
        "cur.execute(get_songs_per_artist)\n",
        "\n",
        "result = cur.fetchall()\n",
        "result[:20]"
      ],
      "metadata": {
        "colab": {
          "base_uri": "https://localhost:8080/"
        },
        "id": "Fh_SrFni54U_",
        "outputId": "5bd92ab8-ad25-4bf7-fdf0-600f2287ef0d"
      },
      "execution_count": null,
      "outputs": [
        {
          "output_type": "execute_result",
          "data": {
            "text/plain": [
              "[('empty_field', 2489),\n",
              " ('Nobuo Uematsu', 429),\n",
              " ('Wolfgang Amadeus Mozart', 402),\n",
              " ('Ludwig van Beethoven', 317),\n",
              " ('Johann Sebastian Bach', 314),\n",
              " ('Frédéric Chopin', 241),\n",
              " ('Drake', 172),\n",
              " ('Capcom Sound Team', 169),\n",
              " ('Yuki Hayashi', 167),\n",
              " ('Eminem', 147),\n",
              " ('Future', 124),\n",
              " ('Thievery Corporation', 122),\n",
              " ('The Black Keys', 114),\n",
              " ('Pyotr Ilyich Tchaikovsky', 103),\n",
              " ('Kevin Gates', 102),\n",
              " ('Mac Miller', 97),\n",
              " ('Howard Shore', 93),\n",
              " ('Logic', 92),\n",
              " ('$uicideBoy$', 92),\n",
              " ('Ryuichi Sakamoto', 90)]"
            ]
          },
          "metadata": {},
          "execution_count": 22
        }
      ]
    }
  ]
}